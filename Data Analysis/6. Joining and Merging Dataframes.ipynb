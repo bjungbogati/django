{
 "cells": [
  {
   "cell_type": "code",
   "execution_count": 2,
   "metadata": {},
   "outputs": [
    {
     "name": "stdout",
     "output_type": "stream",
     "text": [
      "      HPI  Int_rate  US_GDP_Thousands\n",
      "2001   80         2                50\n",
      "2002   85         3                55\n",
      "2003   88         2                65\n",
      "2004   85         2                55\n",
      "      HPI  Int_rate  US_GDP_Thousands\n",
      "2005   80         2                50\n",
      "2006   85         3                55\n",
      "2007   88         2                65\n",
      "2008   85         2                55\n",
      "      HPI  Low_tier_HPI  Unemployment\n",
      "2001   80            50             7\n",
      "2002   85            52             8\n",
      "2003   88            50             9\n",
      "2004   85            53             6\n"
     ]
    }
   ],
   "source": [
    "import pandas as pd\n",
    "\n",
    "df1 = pd.DataFrame({'HPI':[80, 85, 88, 85],\n",
    "                   'Int_rate':[2,3,2,2],\n",
    "                    'US_GDP_Thousands':[50, 55, 65, 55]},\n",
    "                   index = [2001, 2002, 2003, 2004]\n",
    "                  )\n",
    "\n",
    "df2 = pd.DataFrame({'HPI':[80,85,88,85],\n",
    "                    'Int_rate':[2, 3, 2, 2],\n",
    "                    'US_GDP_Thousands':[50, 55, 65, 55]},\n",
    "                   index = [2005, 2006, 2007, 2008])\n",
    "\n",
    "df3 = pd.DataFrame({'HPI':[80,85,88,85],\n",
    "                    'Unemployment':[7, 8, 9, 6],\n",
    "                    'Low_tier_HPI':[50, 52, 50, 53]},\n",
    "                   index = [2001, 2002, 2003, 2004])\n",
    "\n",
    "print(df1)\n",
    "print(df2)\n",
    "print(df3)"
   ]
  },
  {
   "cell_type": "code",
   "execution_count": 2,
   "metadata": {},
   "outputs": [
    {
     "name": "stdout",
     "output_type": "stream",
     "text": [
      "   HPI  Int_rate  US_GDP_Thousands  Low_tier_HPI  Unemployment\n",
      "0   80         2                50            50             7\n",
      "1   85         3                55            52             8\n",
      "2   85         3                55            53             6\n",
      "3   85         2                55            52             8\n",
      "4   85         2                55            53             6\n",
      "5   88         2                65            50             9\n"
     ]
    }
   ],
   "source": [
    "print(pd.merge(df1, df3, on='HPI'))"
   ]
  },
  {
   "cell_type": "code",
   "execution_count": 3,
   "metadata": {},
   "outputs": [
    {
     "name": "stdout",
     "output_type": "stream",
     "text": [
      "   HPI  Int_rate  US_GDP_Thousands_x  US_GDP_Thousands_y\n",
      "0   80         2                  50                  50\n",
      "1   85         3                  55                  55\n",
      "2   88         2                  65                  65\n",
      "3   85         2                  55                  55\n"
     ]
    }
   ],
   "source": [
    "print(pd.merge(df1, df2, on=['HPI', 'Int_rate']))"
   ]
  },
  {
   "cell_type": "code",
   "execution_count": 7,
   "metadata": {},
   "outputs": [
    {
     "name": "stdout",
     "output_type": "stream",
     "text": [
      "     Int_rate  US_GDP_Thousands  Low_tier_HPI  Unemployment\n",
      "HPI                                                        \n",
      "80          2                50            50             7\n",
      "85          3                55            52             8\n",
      "85          3                55            53             6\n",
      "85          2                55            52             8\n",
      "85          2                55            53             6\n",
      "88          2                65            50             9\n"
     ]
    }
   ],
   "source": [
    "df4 = pd.merge(df1, df3, on='HPI')\n",
    "df4.set_index('HPI', inplace=True)\n",
    "print(df4)"
   ]
  },
  {
   "cell_type": "code",
   "execution_count": 8,
   "metadata": {},
   "outputs": [
    {
     "name": "stdout",
     "output_type": "stream",
     "text": [
      "     Int_rate  US_GDP_Thousands  Low_tier_HPI  Unemployment\n",
      "HPI                                                        \n",
      "80          2                50            50             7\n",
      "85          3                55            52             8\n",
      "85          3                55            53             6\n",
      "85          2                55            52             8\n",
      "85          2                55            53             6\n",
      "88          2                65            50             9\n"
     ]
    }
   ],
   "source": [
    "df1.set_index('HPI', inplace=True)\n",
    "df3.set_index('HPI', inplace=True)\n",
    "\n",
    "joined = df1.join(df3)\n",
    "print(joined)"
   ]
  },
  {
   "cell_type": "code",
   "execution_count": 19,
   "metadata": {
    "collapsed": true
   },
   "outputs": [],
   "source": [
    "df1 = pd.DataFrame({\n",
    "                    'Int_rate':[2, 3, 2, 2],\n",
    "                    'US_GDP_Thousands':[50, 55, 65, 55],\n",
    "                    'Year':[2001, 2002, 2003, 2004]\n",
    "                    })\n",
    "\n",
    "df3 = pd.DataFrame({\n",
    "                    'Unemployment':[7, 8, 9, 6],\n",
    "                    'Low_tier_HPI':[50, 52, 50, 53],\n",
    "                    'Year':[2001, 2003, 2004, 2005]})"
   ]
  },
  {
   "cell_type": "code",
   "execution_count": 6,
   "metadata": {},
   "outputs": [
    {
     "name": "stdout",
     "output_type": "stream",
     "text": [
      "   Int_rate  US_GDP_Thousands  Year  Low_tier_HPI  Unemployment\n",
      "0         2                50  2001            50             7\n",
      "1         2                65  2003            52             8\n",
      "2         2                55  2004            50             9\n"
     ]
    }
   ],
   "source": [
    "merged = pd.merge(df1,df3, on='Year')\n",
    "print(merged)"
   ]
  },
  {
   "cell_type": "code",
   "execution_count": 21,
   "metadata": {},
   "outputs": [
    {
     "name": "stdout",
     "output_type": "stream",
     "text": [
      "      Int_rate  US_GDP_Thousands  Low_tier_HPI  Unemployment\n",
      "Year                                                        \n",
      "2001         2                50            50             7\n",
      "2003         2                65            52             8\n",
      "2004         2                55            50             9\n"
     ]
    }
   ],
   "source": [
    "merged = pd.merge(df1, df3, on='Year')\n",
    "merged.set_index('Year', inplace=True)\n",
    "print(merged)"
   ]
  },
  {
   "cell_type": "code",
   "execution_count": 24,
   "metadata": {},
   "outputs": [
    {
     "name": "stdout",
     "output_type": "stream",
     "text": [
      "      Int_rate  US_GDP_Thousands  Low_tier_HPI  Unemployment\n",
      "Year                                                        \n",
      "2001       2.0              50.0            50             7\n",
      "2003       2.0              65.0            52             8\n",
      "2004       2.0              55.0            50             9\n",
      "2005       NaN               NaN            53             6\n"
     ]
    }
   ],
   "source": [
    "merged = pd.merge(df1,df3, on='Year', how='right')\n",
    "merged.set_index('Year', inplace=True)\n",
    "print(merged)"
   ]
  },
  {
   "cell_type": "code",
   "execution_count": 25,
   "metadata": {},
   "outputs": [
    {
     "name": "stdout",
     "output_type": "stream",
     "text": [
      "      Int_rate  US_GDP_Thousands  Low_tier_HPI  Unemployment\n",
      "Year                                                        \n",
      "2001       2.0              50.0          50.0           7.0\n",
      "2002       3.0              55.0           NaN           NaN\n",
      "2003       2.0              65.0          52.0           8.0\n",
      "2004       2.0              55.0          50.0           9.0\n",
      "2005       NaN               NaN          53.0           6.0\n"
     ]
    }
   ],
   "source": [
    "merged = pd.merge(df1, df3, on='Year', how='outer')\n",
    "merged.set_index('Year', inplace=True)\n",
    "print(merged)"
   ]
  },
  {
   "cell_type": "code",
   "execution_count": null,
   "metadata": {
    "collapsed": true
   },
   "outputs": [],
   "source": []
  }
 ],
 "metadata": {
  "kernelspec": {
   "display_name": "Python 3",
   "language": "python",
   "name": "python3"
  },
  "language_info": {
   "codemirror_mode": {
    "name": "ipython",
    "version": 3
   },
   "file_extension": ".py",
   "mimetype": "text/x-python",
   "name": "python",
   "nbconvert_exporter": "python",
   "pygments_lexer": "ipython3",
   "version": "3.6.2"
  }
 },
 "nbformat": 4,
 "nbformat_minor": 2
}
