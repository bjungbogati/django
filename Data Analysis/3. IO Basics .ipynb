{
 "cells": [
  {
   "cell_type": "code",
   "execution_count": 40,
   "metadata": {},
   "outputs": [
    {
     "name": "stdout",
     "output_type": "stream",
     "text": [
      "         Date     Value\n",
      "0  2017-07-31  540000.0\n",
      "1  2017-06-30  550000.0\n",
      "2  2017-05-31  572450.0\n",
      "3  2017-04-30  572450.0\n",
      "4  2017-03-31  549900.0\n"
     ]
    }
   ],
   "source": [
    "import pandas as pd\n",
    "\n",
    "df = pd.read_csv('ZILLOW-Z77006_MLPAH.csv')\n",
    "print(df.head())"
   ]
  },
  {
   "cell_type": "code",
   "execution_count": 41,
   "metadata": {},
   "outputs": [],
   "source": [
    "df.set_index('Date', inplace=True)"
   ]
  },
  {
   "cell_type": "code",
   "execution_count": 42,
   "metadata": {
    "collapsed": true
   },
   "outputs": [],
   "source": [
    "df.to_csv('newcsv1.csv')"
   ]
  },
  {
   "cell_type": "code",
   "execution_count": 22,
   "metadata": {
    "collapsed": true
   },
   "outputs": [],
   "source": [
    "df['Value'].to_csv('newcsv1.csv') ## only to send single column "
   ]
  },
  {
   "cell_type": "code",
   "execution_count": 43,
   "metadata": {},
   "outputs": [
    {
     "name": "stdout",
     "output_type": "stream",
     "text": [
      "         Date     Value\n",
      "0  2017-07-31  540000.0\n",
      "1  2017-06-30  550000.0\n",
      "2  2017-05-31  572450.0\n",
      "3  2017-04-30  572450.0\n",
      "4  2017-03-31  549900.0\n"
     ]
    }
   ],
   "source": [
    "df = pd.read_csv('newcsv1.csv')\n",
    "print(df.head())"
   ]
  },
  {
   "cell_type": "code",
   "execution_count": 44,
   "metadata": {},
   "outputs": [
    {
     "name": "stdout",
     "output_type": "stream",
     "text": [
      "               Value\n",
      "Date                \n",
      "2017-07-31  540000.0\n",
      "2017-06-30  550000.0\n",
      "2017-05-31  572450.0\n",
      "2017-04-30  572450.0\n",
      "2017-03-31  549900.0\n"
     ]
    }
   ],
   "source": [
    "df = pd.read_csv('newcsv1.csv', index_col=0)\n",
    "\n",
    "print(df.head())"
   ]
  },
  {
   "cell_type": "code",
   "execution_count": 45,
   "metadata": {},
   "outputs": [
    {
     "name": "stdout",
     "output_type": "stream",
     "text": [
      "            House_Prices\n",
      "Date                    \n",
      "2017-07-31      540000.0\n",
      "2017-06-30      550000.0\n",
      "2017-05-31      572450.0\n",
      "2017-04-30      572450.0\n",
      "2017-03-31      549900.0\n"
     ]
    }
   ],
   "source": [
    "df.columns = ['House_Prices']\n",
    "print(df.head())"
   ]
  },
  {
   "cell_type": "code",
   "execution_count": 46,
   "metadata": {
    "collapsed": true
   },
   "outputs": [],
   "source": [
    "df.to_csv('newcsv2.csv')"
   ]
  },
  {
   "cell_type": "code",
   "execution_count": 50,
   "metadata": {},
   "outputs": [
    {
     "name": "stdout",
     "output_type": "stream",
     "text": [
      "            House_Prices\n",
      "Date                    \n",
      "2017-07-31      540000.0\n",
      "2017-06-30      550000.0\n",
      "2017-05-31      572450.0\n",
      "2017-04-30      572450.0\n",
      "2017-03-31      549900.0\n"
     ]
    }
   ],
   "source": [
    "df.to_csv('newcsv3.csv', header=False)\n",
    "print(df.head())"
   ]
  },
  {
   "cell_type": "code",
   "execution_count": 53,
   "metadata": {},
   "outputs": [
    {
     "name": "stdout",
     "output_type": "stream",
     "text": [
      "            House_Price\n",
      "Date                   \n",
      "2017-07-31     540000.0\n",
      "2017-06-30     550000.0\n",
      "2017-05-31     572450.0\n",
      "2017-04-30     572450.0\n",
      "2017-03-31     549900.0\n"
     ]
    }
   ],
   "source": [
    "df = pd.read_csv('newcsv3.csv', index_col=0, names=['Date', 'House_Price'])\n",
    "print(df.head())"
   ]
  },
  {
   "cell_type": "code",
   "execution_count": 54,
   "metadata": {
    "collapsed": true
   },
   "outputs": [],
   "source": [
    "df.to_html('new.html')"
   ]
  },
  {
   "cell_type": "code",
   "execution_count": 55,
   "metadata": {},
   "outputs": [
    {
     "name": "stdout",
     "output_type": "stream",
     "text": [
      "         Date  House_Price\n",
      "0  2017-07-31     540000.0\n",
      "1  2017-06-30     550000.0\n",
      "2  2017-05-31     572450.0\n",
      "3  2017-04-30     572450.0\n",
      "4  2017-03-31     549900.0\n"
     ]
    }
   ],
   "source": [
    "df = pd.read_csv('newcsv3.csv', names=['Date', 'House_Price'])\n",
    "print(df.head())"
   ]
  },
  {
   "cell_type": "code",
   "execution_count": 57,
   "metadata": {},
   "outputs": [
    {
     "name": "stdout",
     "output_type": "stream",
     "text": [
      "         Date    Prices\n",
      "0  2017-07-31  540000.0\n",
      "1  2017-06-30  550000.0\n",
      "2  2017-05-31  572450.0\n",
      "3  2017-04-30  572450.0\n",
      "4  2017-03-31  549900.0\n"
     ]
    }
   ],
   "source": [
    "df.rename(columns={'House_Price':'Prices'}, inplace=True)\n",
    "print(df.head())"
   ]
  },
  {
   "cell_type": "code",
   "execution_count": null,
   "metadata": {
    "collapsed": true
   },
   "outputs": [],
   "source": []
  }
 ],
 "metadata": {
  "kernelspec": {
   "display_name": "Python 3",
   "language": "python",
   "name": "python3"
  },
  "language_info": {
   "codemirror_mode": {
    "name": "ipython",
    "version": 3
   },
   "file_extension": ".py",
   "mimetype": "text/x-python",
   "name": "python",
   "nbconvert_exporter": "python",
   "pygments_lexer": "ipython3",
   "version": "3.6.2"
  }
 },
 "nbformat": 4,
 "nbformat_minor": 2
}
