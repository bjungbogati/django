{
 "cells": [
  {
   "cell_type": "markdown",
   "metadata": {},
   "source": [
    "Importing data from Quandl, \n",
    "\n",
    "1. First signup and get API key from quandl.com \n",
    "\n",
    "2. Then, install quandl from conda package,\n",
    "   ---> conda install -c anaconda quandl \n",
    "\n",
    "3. Now import quandl\n",
    "\n",
    "\n"
   ]
  },
  {
   "cell_type": "code",
   "execution_count": 28,
   "metadata": {
    "scrolled": false
   },
   "outputs": [
    {
     "name": "stdout",
     "output_type": "stream",
     "text": [
      "                Value\n",
      "Date                 \n",
      "1975-01-31  32.626112\n",
      "1975-02-28  32.958338\n",
      "1975-03-31  33.546541\n",
      "1975-04-30  34.398979\n",
      "1975-05-31  34.651415\n"
     ]
    }
   ],
   "source": [
    "import quandl\n",
    "\n",
    "auth_tok = \"2gn--t8YsUJj-2_sqtQQ\"\n",
    "\n",
    "df = quandl.get(\"FMAC/HPI_TX\", authtoken=auth_tok)\n",
    "\n",
    "print(df.head())\n",
    "\n"
   ]
  },
  {
   "cell_type": "markdown",
   "metadata": {},
   "source": [
    "Reading tabular data from a Webpage"
   ]
  },
  {
   "cell_type": "code",
   "execution_count": 25,
   "metadata": {
    "scrolled": true
   },
   "outputs": [
    {
     "name": "stdout",
     "output_type": "stream",
     "text": [
      "               0               1               2                  3\n",
      "0   Abbreviation      State Name         Capital     Became a State\n",
      "1             AL         Alabama      Montgomery  December 14, 1819\n",
      "2             AK          Alaska          Juneau    January 3, 1959\n",
      "3             AZ         Arizona         Phoenix  February 14, 1912\n",
      "4             AR        Arkansas     Little Rock      June 15, 1836\n",
      "5             CA      California      Sacramento  September 9, 1850\n",
      "6             CO        Colorado          Denver     August 1, 1876\n",
      "7             CT     Connecticut        Hartford    January 9, 1788\n",
      "8             DE        Delaware           Dover   December 7, 1787\n",
      "9             FL         Florida     Tallahassee      March 3, 1845\n",
      "10            GA         Georgia         Atlanta    January 2, 1788\n",
      "11            HI          Hawaii        Honolulu    August 21, 1959\n",
      "12            ID           Idaho           Boise       July 3, 1890\n",
      "13            IL        Illinois     Springfield   December 3, 1818\n",
      "14            IN         Indiana    Indianapolis  December 11, 1816\n",
      "15            IA            Iowa      Des Moines  December 28, 1846\n",
      "16            KS          Kansas          Topeka   January 29, 1861\n",
      "17            KY        Kentucky       Frankfort       June 1, 1792\n",
      "18            LA       Louisiana     Baton Rouge     April 30, 1812\n",
      "19            ME           Maine         Augusta     March 15, 1820\n",
      "20            MD        Maryland       Annapolis     April 28, 1788\n",
      "21            MA   Massachusetts          Boston   February 6, 1788\n",
      "22            MI        Michigan         Lansing   January 26, 1837\n",
      "23            MN       Minnesota      Saint Paul       May 11, 1858\n",
      "24            MS     Mississippi         Jackson  December 10, 1817\n",
      "25            MO        Missouri  Jefferson City    August 10, 1821\n",
      "26            MT         Montana          Helena   November 8, 1889\n",
      "27            NE        Nebraska         Lincoln      March 1, 1867\n",
      "28            NV          Nevada     Carson City   October 31, 1864\n",
      "29            NH   New Hampshire         Concord      June 21, 1788\n",
      "30            NJ      New Jersey         Trenton  December 18, 1787\n",
      "31            NM      New Mexico        Santa Fe    January 6, 1912\n",
      "32            NY        New York          Albany      July 26, 1788\n",
      "33            NC  North Carolina         Raleigh  November 21, 1789\n",
      "34            ND    North Dakota        Bismarck   November 2, 1889\n",
      "35            OH            Ohio        Columbus      March 1, 1803\n",
      "36            OK        Oklahoma   Oklahoma City  November 16, 1907\n",
      "37            OR          Oregon           Salem  February 14, 1859\n",
      "38            PA    Pennsylvania      Harrisburg  December 12, 1787\n",
      "39            RI    Rhode Island      Providence       May 19, 1790\n",
      "40            SC  South Carolina        Columbia       May 23, 1788\n",
      "41            SD    South Dakota          Pierre   November 2, 1889\n",
      "42            TN       Tennessee       Nashville       June 1, 1796\n",
      "43            TX           Texas          Austin  December 29, 1845\n",
      "44            UT            Utah  Salt Lake City    January 4, 1896\n",
      "45            VT         Vermont      Montpelier      March 4, 1791\n",
      "46            VA        Virginia        Richmond      June 25, 1788\n",
      "47            WA      Washington         Olympia  November 11, 1889\n",
      "48            WV   West Virginia      Charleston      June 20, 1863\n",
      "49            WI       Wisconsin         Madison       May 29, 1848\n",
      "50            WY         Wyoming        Cheyenne      July 10, 1890\n"
     ]
    }
   ],
   "source": [
    "import pandas as pd\n",
    "\n",
    "fiddy_states = pd.read_html('https://simple.wikipedia.org/wiki/List_of_U.S._states')\n",
    "print(fiddy_states[0])"
   ]
  },
  {
   "cell_type": "markdown",
   "metadata": {},
   "source": [
    "Iterating list of abbreviations from fiddy_states"
   ]
  },
  {
   "cell_type": "code",
   "execution_count": 29,
   "metadata": {},
   "outputs": [
    {
     "name": "stdout",
     "output_type": "stream",
     "text": [
      "FMAC/HPI_AL\n",
      "FMAC/HPI_AK\n",
      "FMAC/HPI_AZ\n",
      "FMAC/HPI_AR\n",
      "FMAC/HPI_CA\n",
      "FMAC/HPI_CO\n",
      "FMAC/HPI_CT\n",
      "FMAC/HPI_DE\n",
      "FMAC/HPI_FL\n",
      "FMAC/HPI_GA\n",
      "FMAC/HPI_HI\n",
      "FMAC/HPI_ID\n",
      "FMAC/HPI_IL\n",
      "FMAC/HPI_IN\n",
      "FMAC/HPI_IA\n",
      "FMAC/HPI_KS\n",
      "FMAC/HPI_KY\n",
      "FMAC/HPI_LA\n",
      "FMAC/HPI_ME\n",
      "FMAC/HPI_MD\n",
      "FMAC/HPI_MA\n",
      "FMAC/HPI_MI\n",
      "FMAC/HPI_MN\n",
      "FMAC/HPI_MS\n",
      "FMAC/HPI_MO\n",
      "FMAC/HPI_MT\n",
      "FMAC/HPI_NE\n",
      "FMAC/HPI_NV\n",
      "FMAC/HPI_NH\n",
      "FMAC/HPI_NJ\n",
      "FMAC/HPI_NM\n",
      "FMAC/HPI_NY\n",
      "FMAC/HPI_NC\n",
      "FMAC/HPI_ND\n",
      "FMAC/HPI_OH\n",
      "FMAC/HPI_OK\n",
      "FMAC/HPI_OR\n",
      "FMAC/HPI_PA\n",
      "FMAC/HPI_RI\n",
      "FMAC/HPI_SC\n",
      "FMAC/HPI_SD\n",
      "FMAC/HPI_TN\n",
      "FMAC/HPI_TX\n",
      "FMAC/HPI_UT\n",
      "FMAC/HPI_VT\n",
      "FMAC/HPI_VA\n",
      "FMAC/HPI_WA\n",
      "FMAC/HPI_WV\n",
      "FMAC/HPI_WI\n",
      "FMAC/HPI_WY\n"
     ]
    }
   ],
   "source": [
    "for abbv in fiddy_states[0][0][1:]:\n",
    "#     print(abbv)\n",
    "    print(\"FMAC/HPI_\"+str(abbv))"
   ]
  },
  {
   "cell_type": "code",
   "execution_count": null,
   "metadata": {},
   "outputs": [],
   "source": []
  },
  {
   "cell_type": "code",
   "execution_count": null,
   "metadata": {
    "collapsed": true
   },
   "outputs": [],
   "source": []
  }
 ],
 "metadata": {
  "kernelspec": {
   "display_name": "Python 3",
   "language": "python",
   "name": "python3"
  },
  "language_info": {
   "codemirror_mode": {
    "name": "ipython",
    "version": 3
   },
   "file_extension": ".py",
   "mimetype": "text/x-python",
   "name": "python",
   "nbconvert_exporter": "python",
   "pygments_lexer": "ipython3",
   "version": "3.6.2"
  }
 },
 "nbformat": 4,
 "nbformat_minor": 2
}
