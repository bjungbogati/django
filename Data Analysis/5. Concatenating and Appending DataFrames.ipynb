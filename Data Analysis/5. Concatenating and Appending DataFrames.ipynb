{
 "cells": [
  {
   "cell_type": "code",
   "execution_count": 7,
   "metadata": {
    "collapsed": true
   },
   "outputs": [],
   "source": [
    "import pandas as pd\n",
    "\n",
    "df1 = pd.DataFrame({'HPI':[80, 85, 88, 85],\n",
    "                   'Int_rate':[2,3,2,2],\n",
    "                    'US_GDP_Thousands':[50, 55, 65, 55]                   \n",
    "                   }, \n",
    "                  index = [2001, 2002, 2003, 2004])\n",
    "\n",
    "df2 = pd.DataFrame({'HPI':[80,85,88,85],\n",
    "                    'Int_rate':[2, 3, 2, 2],\n",
    "                    'US_GDP_Thousands':[50, 55, 65, 55]},\n",
    "                   index = [2005, 2006, 2007, 2008])\n",
    "\n",
    "df3 = pd.DataFrame({'HPI':[80,85,88,85],\n",
    "                    'Int_rate':[2, 3, 2, 2],\n",
    "                    'Low_tier_HPI':[50, 52, 50, 53]},\n",
    "                   index = [2001, 2002, 2003, 2004])\n",
    "\n",
    "\n",
    "\n",
    "\n",
    "\n",
    "\n"
   ]
  },
  {
   "cell_type": "code",
   "execution_count": 10,
   "metadata": {},
   "outputs": [
    {
     "name": "stdout",
     "output_type": "stream",
     "text": [
      "      HPI  Int_rate  US_GDP_Thousands\n",
      "2001   80         2                50\n",
      "2002   85         3                55\n",
      "2003   88         2                65\n",
      "2004   85         2                55\n",
      "2005   80         2                50\n",
      "2006   85         3                55\n",
      "2007   88         2                65\n",
      "2008   85         2                55\n"
     ]
    }
   ],
   "source": [
    "concat = pd.concat([df1,df2])\n",
    "print(concat)"
   ]
  },
  {
   "cell_type": "code",
   "execution_count": 12,
   "metadata": {},
   "outputs": [
    {
     "name": "stdout",
     "output_type": "stream",
     "text": [
      "      HPI  Int_rate  Low_tier_HPI  US_GDP_Thousands\n",
      "2001   80         2           NaN              50.0\n",
      "2002   85         3           NaN              55.0\n",
      "2003   88         2           NaN              65.0\n",
      "2004   85         2           NaN              55.0\n",
      "2005   80         2           NaN              50.0\n",
      "2006   85         3           NaN              55.0\n",
      "2007   88         2           NaN              65.0\n",
      "2008   85         2           NaN              55.0\n",
      "2001   80         2          50.0               NaN\n",
      "2002   85         3          52.0               NaN\n",
      "2003   88         2          50.0               NaN\n",
      "2004   85         2          53.0               NaN\n"
     ]
    }
   ],
   "source": [
    "concat = pd.concat([df1,df2,df3])\n",
    "print(concat)"
   ]
  },
  {
   "cell_type": "code",
   "execution_count": 13,
   "metadata": {},
   "outputs": [
    {
     "name": "stdout",
     "output_type": "stream",
     "text": [
      "      HPI  Int_rate  US_GDP_Thousands\n",
      "2001   80         2                50\n",
      "2002   85         3                55\n",
      "2003   88         2                65\n",
      "2004   85         2                55\n",
      "2005   80         2                50\n",
      "2006   85         3                55\n",
      "2007   88         2                65\n",
      "2008   85         2                55\n"
     ]
    }
   ],
   "source": [
    "df4 = df1.append(df2)\n",
    "print(df4)"
   ]
  },
  {
   "cell_type": "code",
   "execution_count": 14,
   "metadata": {},
   "outputs": [
    {
     "name": "stdout",
     "output_type": "stream",
     "text": [
      "      HPI  Int_rate  Low_tier_HPI  US_GDP_Thousands\n",
      "2001   80         2           NaN              50.0\n",
      "2002   85         3           NaN              55.0\n",
      "2003   88         2           NaN              65.0\n",
      "2004   85         2           NaN              55.0\n",
      "2001   80         2          50.0               NaN\n",
      "2002   85         3          52.0               NaN\n",
      "2003   88         2          50.0               NaN\n",
      "2004   85         2          53.0               NaN\n"
     ]
    }
   ],
   "source": [
    "df4 = df1.append(df3)\n",
    "print(df4)"
   ]
  },
  {
   "cell_type": "code",
   "execution_count": 16,
   "metadata": {},
   "outputs": [
    {
     "name": "stdout",
     "output_type": "stream",
     "text": [
      "   HPI  Int_rate  US_GDP_Thousands\n",
      "0   80         2                50\n",
      "1   85         3                55\n",
      "2   88         2                65\n",
      "3   85         2                55\n",
      "4   80         2                50\n"
     ]
    }
   ],
   "source": [
    "s = pd.Series([80,2,50], index=['HPI', 'Int_rate', 'US_GDP_Thousands'])\n",
    "df4 = df1.append(s, ignore_index=True)\n",
    "print(df4)"
   ]
  },
  {
   "cell_type": "code",
   "execution_count": null,
   "metadata": {
    "collapsed": true
   },
   "outputs": [],
   "source": [
    "s"
   ]
  }
 ],
 "metadata": {
  "kernelspec": {
   "display_name": "Python 3",
   "language": "python",
   "name": "python3"
  },
  "language_info": {
   "codemirror_mode": {
    "name": "ipython",
    "version": 3
   },
   "file_extension": ".py",
   "mimetype": "text/x-python",
   "name": "python",
   "nbconvert_exporter": "python",
   "pygments_lexer": "ipython3",
   "version": "3.6.2"
  }
 },
 "nbformat": 4,
 "nbformat_minor": 2
}
